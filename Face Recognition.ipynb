{
 "cells": [
  {
   "cell_type": "code",
   "execution_count": 1,
   "metadata": {},
   "outputs": [],
   "source": [
    "import cv2\n",
    "import sys\n",
    "import tkinter as tk\n",
    "from tkinter import *"
   ]
  },
  {
   "cell_type": "code",
   "execution_count": 2,
   "metadata": {},
   "outputs": [],
   "source": [
    "window = Tk()\n",
    "window.geometry('600x600')\n",
    "window.configure(bg='white')\n",
    "window.title('Face detection')\n",
    "lbl1 = Label(window , text = \"Face detection\",fg = \"white\" ,bg =\"red\", width =30 ,height =3,font =('times', 25, ' bold '))\n",
    "lbl1.place(x=0 , y=0)\n",
    "\n",
    "lbl2 = Label(window , text = \"Enter Image Name\" ,bg='white', fg = \"red\" , font = ('times', 15 ,'bold')).place(x=100 , y=200)\n",
    "\n",
    "lbl3 = Label(window, text = \"Live Detection\", fg = \"red\" ,bg='white', font = ('times', 15 ,'bold')).place(x=100 ,y=400)\n",
    "entry1 = tk.Entry(window , bg =\"red\" ,fg =\"white\" ,width =30)\n",
    "entry1.place(x=90,y=240)"
   ]
  },
  {
   "cell_type": "code",
   "execution_count": 3,
   "metadata": {},
   "outputs": [],
   "source": [
    "def onClick1():\n",
    "    image_path = entry1.get()\n",
    "    if image_path == \"\":\n",
    "        lbl5 = Label(window, text =\"Enter Name of Image\", fg=\"red\").place(x=200 ,y=280)\n",
    "    cascpath= \"haarcascade_frontalface_default.xml\"\n",
    "    faceCascade = cv2.CascadeClassifier(cascpath)\n",
    "    \n",
    "    image = cv2.imread(image_path)\n",
    "    gray = cv2.cvtColor(image, cv2.COLOR_BGR2GRAY)\n",
    "    \n",
    "    faces = faceCascade.detectMultiScale(gray,scaleFactor=1.1,minNeighbors=5,minSize=(10, 10))\n",
    "    for (x,y,w,h) in faces:\n",
    "        cv2.rectangle(image, (x,y), (x+w ,y+h), (0, 255, 0), 2)\n",
    "            \n",
    "    cv2.imshow(\"images found\" , image)\n",
    "    cv2.waitKey(0)\n",
    "    \n",
    "btn1 = Button(window, text = \"Click\", command = onClick1 ,fg ='white', bg = \"red\",font = ('times', 15 ,'bold'), width =10).place(x =350 , y=  230)"
   ]
  },
  {
   "cell_type": "code",
   "execution_count": 4,
   "metadata": {},
   "outputs": [],
   "source": [
    "def live():\n",
    "    cam = cv2.VideoCapture(0)\n",
    "    faceCascade = cv2.CascadeClassifier(\"haarcascade_frontalface_default.xml\")\n",
    "    \n",
    "    while(True):\n",
    "        ret, frame = cam.read()\n",
    "        gray = cv2.cvtColor(frame , cv2.COLOR_BGR2GRAY)\n",
    "            \n",
    "        faces = faceCascade.detectMultiScale(gray,scaleFactor=1.1,minNeighbors=5,minSize=(10, 10))\n",
    "            \n",
    "        for (x,y,w,h) in faces:\n",
    "            cv2.rectangle(frame, (x,y) ,(x+w , y+h), (0,255,0), 2)\n",
    "            font = cv2.FONT_HERSHEY_SIMPLEX\n",
    "            cv2.putText(frame,'Found',(x,y), font, 1, (255,0,0))\n",
    "                \n",
    "        cv2.imshow('frame', frame)\n",
    "        if cv2.waitKey(1) & 0xFF == ord(\"q\"):\n",
    "            break\n",
    "                \n",
    "            \n",
    "    cam.release()\n",
    "    cv2.destroyAllWindows()\n",
    "\n",
    "btn2 = Button(window, text = \"Live\", command = live ,fg = \"white\", bg = \"red\",font = ('times', 15 ,'bold'), width =10).place(x = 350 , y = 400)"
   ]
  },
  {
   "cell_type": "code",
   "execution_count": 5,
   "metadata": {},
   "outputs": [],
   "source": [
    "window.mainloop()"
   ]
  }
 ],
 "metadata": {
  "kernelspec": {
   "display_name": "Python 3",
   "language": "python",
   "name": "python3"
  },
  "language_info": {
   "codemirror_mode": {
    "name": "ipython",
    "version": 3
   },
   "file_extension": ".py",
   "mimetype": "text/x-python",
   "name": "python",
   "nbconvert_exporter": "python",
   "pygments_lexer": "ipython3",
   "version": "3.6.7"
  }
 },
 "nbformat": 4,
 "nbformat_minor": 4
}
